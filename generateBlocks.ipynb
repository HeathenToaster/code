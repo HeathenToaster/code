{
 "cells": [
  {
   "cell_type": "code",
   "execution_count": null,
   "source": [
    "import numpy as np\n",
    "# function to generate the irregular blocks timings\n",
    "def create_RandBlocks(nbBlocks, totalTimeBlocks): #generate N blocks with randomly determined length. Sum of all blocks is equal to totalTimeBLocks. \n",
    "    if nbBlocks != 0 and totalTimeBlocks != 0:\n",
    "        randomBlocks = [] #initiate array\n",
    "        randList = np.random.rand(nbBlocks) #generate N random numbers \n",
    "        sum_randList = sum(randList) #sum the N rand nums generated\n",
    "        for i in randList:\n",
    "            randomBlocks.append(round(i/sum_randList*totalTimeBlocks)) # divide each rand generated number by the sum. this way we ensure that the sum of all generated blocks is equal to 1h or 30min. \n",
    "        if sum(randomBlocks) != totalTimeBlocks: #becaus eof rounding imprecisions we have to check if the sum of the generated blocks is equal to the target. If not it means that we have a few extra or missing seconds. we allocate/remove them randomly from a block. \n",
    "            leftover = totalTimeBlocks - sum(randomBlocks)\n",
    "            if leftover > 0: #if.. means we are short of a few seconds, we add them to a random block\n",
    "                while leftover != 0:\n",
    "                    foo = np.random.randint(nbBlocks)\n",
    "                    randomBlocks[foo] += 1\n",
    "                    leftover -= 1\n",
    "            if leftover < 0: #same except we have too much so we randomly substract. \n",
    "                while leftover != 0:\n",
    "                    foo = np.random.randint(nbBlocks)\n",
    "                    randomBlocks[foo] -= 1\n",
    "                    leftover += 1\n",
    "    else:\n",
    "        print(\"Error: nbBlocks and totalTimeBlocks should not be equal to 0.\")\n",
    "    return randomBlocks\n",
    "\n",
    "RNG = np.random.rand(1) #generate rand number [0:1] to determine if first block is High or Low. \n",
    "print(\"Start with:\", \"High% Block\" if RNG > 0.5 else \"Low% Block\")\n",
    "lowBlocks = create_RandBlocks(6, 1800) #generate rand blocks. 6 blocks High, 6 Low, session is 1h, so we want total High and total Low = 1800s. \n",
    "highBlocks = create_RandBlocks(6, 1800)\n",
    "print(\"Low blocks\", lowBlocks, sum(lowBlocks))\n",
    "print(\"High blocks\", highBlocks, sum(highBlocks))\n",
    "\n",
    "sessionBlocks = [] # merge them to make the session. \n",
    "for i, j in zip(lowBlocks, highBlocks):\n",
    "    if RNG < 0.5:\n",
    "        sessionBlocks.append([i, j])\n",
    "    if RNG > 0.5:\n",
    "        sessionBlocks.append([j, i])\n",
    "print(\"sessionBlocks\", sessionBlocks)"
   ],
   "outputs": [],
   "metadata": {}
  },
  {
   "cell_type": "code",
   "execution_count": null,
   "source": [],
   "outputs": [],
   "metadata": {}
  }
 ],
 "metadata": {
  "orig_nbformat": 4,
  "language_info": {
   "name": "python"
  }
 },
 "nbformat": 4,
 "nbformat_minor": 2
}