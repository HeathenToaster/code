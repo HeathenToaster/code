{
 "cells": [
  {
   "cell_type": "code",
   "execution_count": 21,
   "metadata": {},
   "outputs": [
    {
     "name": "stdout",
     "output_type": "stream",
     "text": [
      "Path to data is: /home/david/Desktop/DATA\n",
      "Current working directory: /home/david/Desktop/code\n",
      "Save Path:  /home/david/Desktop/Save\n"
     ]
    }
   ],
   "source": [
    "import datetime\n",
    "import fnmatch\n",
    "import matplotlib.cbook\n",
    "import matplotlib.pyplot as plt\n",
    "%matplotlib inline\n",
    "from ipywidgets import interact\n",
    "import numpy as np\n",
    "import os\n",
    "import pandas as pd\n",
    "import pickle\n",
    "import platform\n",
    "from pylab import rcParams\n",
    "import scipy\n",
    "from scipy import stats\n",
    "import warnings\n",
    "\n",
    "import sessionlists\n",
    "\n",
    "warnings.filterwarnings(\"ignore\",category=matplotlib.cbook.mplDeprecation)\n",
    "startTimeNotebook = datetime.datetime.now()\n",
    "if 'COLAB_GPU' in os.environ:\n",
    "    !git clone https://github.com/HeathenToaster/code\n",
    "    %cd code\n",
    "# %run VIGOR_Functions\n",
    "plt.style.use('./Figures/test.mplstyle')\n",
    "\n",
    "## Define data path.\n",
    "#### Define folder with data \n",
    "if platform.system()=='Linux':\n",
    "    root=\"/home/david/Desktop/DATA\"\n",
    "    savePath=\"/home/david/Desktop/Save\"\n",
    "elif platform.system()=='Darwin':\n",
    "    root=\"/Users/tom/Desktop/DATA\"\n",
    "    savePath=\"/Users/tom/Desktop/Save\"\n",
    "if 'COLAB_GPU' in os.environ:\n",
    "    !gdown --id 1oxWJLF67TEifzQFgtUHIyhnEsS6AeQUW\n",
    "    !unzip -qq /content/code/datacopy.zip\n",
    "    root=\"/content/code/datacopy\"\n",
    "    savePath=\"/content/Save\"\n",
    "    print(\"I'm running on Colab\")\n",
    "print(\"Path to data is: %s\"%root)\n",
    "\n",
    "retval = os.getcwd()\n",
    "print(\"Current working directory: %s\" % retval)\n",
    "print(\"Save Path: \", savePath)"
   ]
  },
  {
   "cell_type": "code",
   "execution_count": 6,
   "metadata": {},
   "outputs": [
    {
     "data": {
      "text/plain": [
       "[50, 19]"
      ]
     },
     "execution_count": 6,
     "metadata": {},
     "output_type": "execute_result"
    }
   ],
   "source": [
    "import glob, re, os\n",
    "import VIGOR_utils as VIGutils\n",
    "import VIGOR_plotting as VIGplot\n",
    "\n",
    "\n",
    "\n",
    "# %run VIGOR_utils\n",
    "# %run VIGOR_plotting\n",
    "animalList = [os.path.basename(path) for path in sorted(glob.glob(root+\"/Rat*\"))]\n",
    "animal = animalList[0]\n",
    "sessionList = dist60[2:4]\n",
    "session = 'RatF00_2021_07_19_15_25_33'\n",
    "\n",
    "p = VIGutils.ProcessData(root, animal, session, buggedSessions, redoMask=False, redoFig=False)\n",
    "\n",
    "p.params['boundaries']"
   ]
  },
  {
   "cell_type": "code",
   "execution_count": 7,
   "metadata": {},
   "outputs": [
    {
     "ename": "SyntaxError",
     "evalue": "invalid syntax (4056019114.py, line 1)",
     "output_type": "error",
     "traceback": [
      "\u001b[0;36m  File \u001b[0;32m\"/tmp/ipykernel_31407/4056019114.py\"\u001b[0;36m, line \u001b[0;32m1\u001b[0m\n\u001b[0;31m    <\u001b[0m\n\u001b[0m    ^\u001b[0m\n\u001b[0;31mSyntaxError\u001b[0m\u001b[0;31m:\u001b[0m invalid syntax\n"
     ]
    }
   ],
   "source": [
    "<"
   ]
  },
  {
   "cell_type": "code",
   "execution_count": 8,
   "metadata": {},
   "outputs": [],
   "source": [
    "\n",
    "# convert scale, convert i = 0 to 120 --> 60 to-60 which correspnds to the speed to the right (0 to 60) and to the left (0 to -60)\n",
    "def convert_scale(number):\n",
    "    old_min = 0\n",
    "    old_max = 120\n",
    "    new_max = -60\n",
    "    new_min = 60\n",
    "    return int(((number - old_min) / (old_max - old_min)) * (new_max - new_min) + new_min)\n",
    "\n",
    "# compute mask to separate runs and stays based on speed\n",
    "def filterspeed(dataPos, dataSpeed, threshold, dist):\n",
    "    # dissociate runs from non runs, we want a cut off based on animal, speed. How to define this speed? If we plot the speed of the animal in function of the X position in the apparatus, so we can see that there is some blobs of speeds close to 0 and near the extremities of the treadmill, these are the ones that we want to define as non running speeds. With this function we want to compute the area of these points of data (higher density, this technique might not work when animals are not properly trained) in order to differentiate them.\n",
    "    middle = dist/2\n",
    "    xmin, xmax = 0, 120  # specify the x and y range of the window that we want to analyse\n",
    "    ymin, ymax = -60, 60\n",
    "    position = np.array(dataPos, dtype=float)  # data needs to be transformed to float perform the KDE\n",
    "    speed = np.array(dataSpeed, dtype=float)\n",
    "    X, Y = np.mgrid[xmin:xmax:120j, ymin:ymax:120j]  # create 2D grid to compute KDE\n",
    "    positions = np.vstack([X.ravel(), Y.ravel()])\n",
    "    values = np.vstack([position, speed])\n",
    "    kernel = stats.gaussian_kde(values)  # compute KDE, this gives us an estimation of the point density. SLOW\n",
    "    Z = np.reshape(kernel(positions).T, X.shape)\n",
    "\n",
    "    # Using the KDE that we just computed, we select the zones that have a density above a certain threshold (after testing 0.0001 seems to work well), which roughly corresponds to the set of data that we want to extract.\n",
    "    # We loop through the 2D array, if the datapoint is > threshold we get the line (speed limit) and the row (X position in cm). This gives us the speed limit for each part of the\n",
    "    # treadmill, so basically a zone delimited with speed limits (speed limits can be different in different points of the zone).\n",
    "    i, j = [], []  # i is the set of speeds (lines) for which we will perform operations, j is the set of positions (rows) for each speed for which we will perform operations\n",
    "    for line in range(0, len(np.rot90(Z))):\n",
    "        if len(np.where(np.rot90(Z)[line] > threshold)[0]) > 1:\n",
    "            i.append(convert_scale(line))\n",
    "            j.append(np.where(np.rot90(Z)[line] > threshold)[0])\n",
    "\n",
    "    # create a mask using the zone computed before and combine them. We have two zones (left and right), so we perform the steps on each side, first part is on the left.\n",
    "    rawMask = np.array([])\n",
    "    # pos is the array of positions for which the speed of the animal is under the speed limit. \"11 [ 7  8  9 10 11]\" for instance here the speed limit is 11 cm/s, and is attained between 7 and 11cm on the treadmill.\n",
    "    # \"10 [4, 5, 6, 7, 8, 9, 10, 11, 12, 13, 105, 106, 107, 108, 109, 110]\" when we decrease the speed limit, here 10, we here have 2 zones, one between 4 and 13cm and another between 105 and 110cm.\n",
    "    # we continue through these speed values (roughly from 11 to 0, then from 0 to -10 in this example)\n",
    "    for line, pos in zip(i, j):\n",
    "        if pos[pos < middle].size:\n",
    "            low = pos[pos < middle][0]  # first value of the array, explained above (7)\n",
    "            high = pos[pos < middle][-1]  # last value of the array (11)\n",
    "            a = np.ma.masked_less(position, high)  # take everything left of the rightmost point, if the value is ok == True\n",
    "            b = np.ma.masked_greater(position, low)  # take everything right of the leftmost point\n",
    "            c = np.ma.masked_less(speed, line+0.5)  # take everything below the high point\n",
    "            d = np.ma.masked_greater(speed, line-0.5)  # take everything above the low point\n",
    "            mask = np.logical_and(a.mask, b.mask)  # first combination for all the rows (=Xposition), keep the intersection of mask a AND b, so keep all between the leftmost and rightmost points\n",
    "            mask2 = np.logical_and(c.mask, d.mask)  # second combination for all the lines (=speed), keep the intersection of mask c AND d, so keep all between speed+0.5:speed-0.5\n",
    "            combiLeft = np.logical_and(mask, mask2)  # combine the first and the second mask, so we only keep the intersection of the two masks, intersection is TRUE, the rest is FALSE\n",
    "            if not rawMask.size:  # must do that for the first iteration so it's not empty\n",
    "                rawMask = combiLeft\n",
    "            else:\n",
    "                rawMask = np.logical_xor(combiLeft, rawMask)  # merge the newly computed mask with the previously computed masks. We use XOR so that the TRUE values of the new mask are added to the complete mask. Same step left and right just add to the existing full mask wether the new mask is on the left or the right.\n",
    "        # same as above for the right part\n",
    "        if pos[pos > middle].size:\n",
    "            low = pos[pos > middle][0]\n",
    "            high = pos[pos > middle][-1]\n",
    "            a = np.ma.masked_less(position, high)\n",
    "            b = np.ma.masked_greater(position, low)\n",
    "            c = np.ma.masked_less(speed, line + 0.5)\n",
    "            d = np.ma.masked_greater(speed, line - 0.5)\n",
    "            mask = np.logical_and(a.mask, b.mask)\n",
    "            mask2 = np.logical_and(c.mask, d.mask)\n",
    "            combiRight = np.logical_and(mask, mask2)\n",
    "            if not rawMask.size:\n",
    "                rawMask = combiRight\n",
    "            else:\n",
    "                rawMask = np.logical_xor(combiRight, rawMask)\n",
    "    return ~rawMask\n"
   ]
  },
  {
   "cell_type": "code",
   "execution_count": 9,
   "metadata": {},
   "outputs": [],
   "source": [
    "dataPos = p.rawPositionX\n",
    "dataSpeed = p.rawSpeed\n",
    "threshold = 0.0002\n",
    "dist = p.params[\"treadmillDist\"]\n",
    "\n",
    "middle = dist/2\n",
    "xmin, xmax = 0, 120  # specify the x and y range of the window that we want to analyse\n",
    "ymin, ymax = -60, 60\n",
    "position = np.array(dataPos, dtype=float)  # data needs to be transformed to float perform the KDE\n",
    "speed = np.array(dataSpeed, dtype=float)\n",
    "X, Y = np.mgrid[xmin:xmax:120j, ymin:ymax:120j]  # create 2D grid to compute KDE\n",
    "positions = np.vstack([X.ravel(), Y.ravel()])\n",
    "values = np.vstack([position, speed])\n",
    "kernel = stats.gaussian_kde(values)  # compute KDE, this gives us an estimation of the point density. SLOW\n",
    "Z = np.reshape(kernel(positions).T, X.shape)"
   ]
  },
  {
   "cell_type": "code",
   "execution_count": 10,
   "metadata": {},
   "outputs": [
    {
     "data": {
      "text/plain": [
       "<matplotlib.image.AxesImage at 0x7f77b2f1e9d0>"
      ]
     },
     "execution_count": 10,
     "metadata": {},
     "output_type": "execute_result"
    },
    {
     "data": {
      "image/png": "[encoded data removed]",
      "text/plain": [
       "<Figure size 432x288 with 1 Axes>"
      ]
     },
     "metadata": {
      "needs_background": "light"
     },
     "output_type": "display_data"
    }
   ],
   "source": [
    "plt.imshow(Z)"
   ]
  },
  {
   "cell_type": "code",
   "execution_count": 11,
   "metadata": {},
   "outputs": [],
   "source": [
    "mask1 = filterspeed(p.rawPositionX, p.rawSpeed, 0.002, p.params[\"treadmillDist\"])\n"
   ]
  },
  {
   "cell_type": "code",
   "execution_count": 12,
   "metadata": {},
   "outputs": [
    {
     "data": {
      "text/plain": [
       "array([False, False, False, ..., False, False, False])"
      ]
     },
     "execution_count": 12,
     "metadata": {},
     "output_type": "execute_result"
    }
   ],
   "source": [
    "mask1"
   ]
  },
  {
   "cell_type": "code",
   "execution_count": 13,
   "metadata": {},
   "outputs": [
    {
     "data": {
      "text/plain": [
       "288"
      ]
     },
     "execution_count": 13,
     "metadata": {},
     "output_type": "execute_result"
    }
   ],
   "source": [
    "p.total_trials"
   ]
  },
  {
   "cell_type": "code",
   "execution_count": 14,
   "metadata": {},
   "outputs": [
    {
     "data": {
      "text/plain": [
       "<matplotlib.image.AxesImage at 0x7f77b06b92d0>"
      ]
     },
     "execution_count": 14,
     "metadata": {},
     "output_type": "execute_result"
    },
    {
     "data": {
      "image/png": "[encoded data removed]",
      "text/plain": [
       "<Figure size 720x720 with 1 Axes>"
      ]
     },
     "metadata": {
      "needs_background": "light"
     },
     "output_type": "display_data"
    }
   ],
   "source": [
    "import numpy as np\n",
    "import numpy.random\n",
    "import matplotlib.pyplot as plt\n",
    "\n",
    "# Generate some test data\n",
    "x = p.rawPositionX\n",
    "y = p.rawSpeed\n",
    "xbins = np.linspace(0, 120, 121)\n",
    "ybins = np.linspace(-60, 60, 121)\n",
    "heatmap, _, __ = np.histogram2d(x, y, bins=(xbins, ybins))\n",
    "\n",
    "fig, ax = plt.figure(figsize=(10, 10)), plt.gca()\n",
    "hm = heatmap.T\n",
    "hm[hm < p.total_trials] = False\n",
    "hm[hm >= p.total_trials] = True\n",
    "plt.imshow(hm, extent=[0, 120, -60, 60])#, origin='lower', cmap='jet', aspect='auto', vmax=10000)"
   ]
  },
  {
   "cell_type": "code",
   "execution_count": 15,
   "metadata": {},
   "outputs": [],
   "source": [
    "\n",
    "# compute mask to separate runs and stays based on speed\n",
    "def filterspeed2(dataPos, dataSpeed, threshold, dist):\n",
    "    middle = dist/2\n",
    "    xmin, xmax = 0, 120  # specify the x and y range of the window that we want to analyse\n",
    "    ymin, ymax = -60, 60\n",
    "    position = np.array(dataPos, dtype=float)  # data needs to be transformed to float perform the KDE\n",
    "    speed = np.array(dataSpeed, dtype=float)\n",
    "\n",
    "    xbins = np.linspace(xmin, xmax, xmax+1)\n",
    "    ybins = np.linspace(ymin, ymax, ymax+1)\n",
    "\n",
    "    heatmap, _, __ = np.histogram2d(dataPos, dataSpeed, bins=(xbins, ybins))\n",
    "\n",
    "    hm = heatmap.T\n",
    "    hm[hm < threshold] = False\n",
    "    hm[hm >= threshold] = True\n",
    "\n",
    "    mask = np.zeros_like(position, dtype=bool)\n",
    "    for line in range(ymin , ymax):\n",
    "        pos = np.where(hm[line] == True)[0]\n",
    "        if pos[pos < middle].size:\n",
    "            low = pos[pos < middle][0]\n",
    "            high = pos[pos < middle][-1]\n",
    "            a = np.ma.masked_less(position, high)\n",
    "            b = np.ma.masked_greater(position, low)\n",
    "            c = np.ma.masked_less(speed, line + 0.5)\n",
    "            d = np.ma.masked_greater(speed, line - 0.5)\n",
    "            mask = np.logical_and(a.mask, b.mask)\n",
    "            mask2 = np.logical_and(c.mask, d.mask)\n",
    "            combiLeft = np.logical_and(mask, mask2)\n",
    "            if not mask.size:\n",
    "                mask = combiLeft\n",
    "            else:\n",
    "                mask = np.logical_xor(combiLeft, mask)\n",
    "        if pos[pos > middle].size:\n",
    "            low = pos[pos > middle][0]\n",
    "            high = pos[pos > middle][-1]\n",
    "            a = np.ma.masked_less(position, high)\n",
    "            b = np.ma.masked_greater(position, low)\n",
    "            c = np.ma.masked_less(speed, line + 0.5)\n",
    "            d = np.ma.masked_greater(speed, line - 0.5)\n",
    "            mask = np.logical_and(a.mask, b.mask)\n",
    "            mask2 = np.logical_and(c.mask, d.mask)\n",
    "            combiRight = np.logical_and(mask, mask2)\n",
    "            if not mask.size:\n",
    "                mask = combiRight\n",
    "            else:\n",
    "                mask = np.logical_xor(combiRight, mask)\n",
    "    return ~mask\n",
    "\n",
    "\n",
    "\n",
    "\n",
    "    # # Using the KDE that we just computed, we select the zones that have a density above a certain threshold (after testing 0.0001 seems to work well), which roughly corresponds to the set of data that we want to extract.\n",
    "    # # We loop through the 2D array, if the datapoint is > threshold we get the line (speed limit) and the row (X position in cm). This gives us the speed limit for each part of the\n",
    "    # # treadmill, so basically a zone delimited with speed limits (speed limits can be different in different points of the zone).\n",
    "    # i, j = [], []  # i is the set of speeds (lines) for which we will perform operations, j is the set of positions (rows) for each speed for which we will perform operations\n",
    "    # for line in range(0, len(np.rot90(Z))):\n",
    "    #     if len(np.where(np.rot90(Z)[line] > threshold)[0]) > 1:\n",
    "    #         i.append(convert_scale(line))\n",
    "    #         j.append(np.where(np.rot90(Z)[line] > threshold)[0])\n",
    "\n",
    "    # # create a mask using the zone computed before and combine them. We have two zones (left and right), so we perform the steps on each side, first part is on the left.\n",
    "    # rawMask = np.array([])\n",
    "    # # pos is the array of positions for which the speed of the animal is under the speed limit. \"11 [ 7  8  9 10 11]\" for instance here the speed limit is 11 cm/s, and is attained between 7 and 11cm on the treadmill.\n",
    "    # # \"10 [4, 5, 6, 7, 8, 9, 10, 11, 12, 13, 105, 106, 107, 108, 109, 110]\" when we decrease the speed limit, here 10, we here have 2 zones, one between 4 and 13cm and another between 105 and 110cm.\n",
    "    # # we continue through these speed values (roughly from 11 to 0, then from 0 to -10 in this example)\n",
    "    # for line, pos in zip(i, j):\n",
    "    #     if pos[pos < middle].size:\n",
    "    #         low = pos[pos < middle][0]  # first value of the array, explained above (7)\n",
    "    #         high = pos[pos < middle][-1]  # last value of the array (11)\n",
    "    #         a = np.ma.masked_less(position, high)  # take everything left of the rightmost point, if the value is ok == True\n",
    "    #         b = np.ma.masked_greater(position, low)  # take everything right of the leftmost point\n",
    "    #         c = np.ma.masked_less(speed, line+0.5)  # take everything below the high point\n",
    "    #         d = np.ma.masked_greater(speed, line-0.5)  # take everything above the low point\n",
    "    #         mask = np.logical_and(a.mask, b.mask)  # first combination for all the rows (=Xposition), keep the intersection of mask a AND b, so keep all between the leftmost and rightmost points\n",
    "    #         mask2 = np.logical_and(c.mask, d.mask)  # second combination for all the lines (=speed), keep the intersection of mask c AND d, so keep all between speed+0.5:speed-0.5\n",
    "    #         combiLeft = np.logical_and(mask, mask2)  # combine the first and the second mask, so we only keep the intersection of the two masks, intersection is TRUE, the rest is FALSE\n",
    "    #         if not rawMask.size:  # must do that for the first iteration so it's not empty\n",
    "    #             rawMask = combiLeft\n",
    "    #         else:\n",
    "    #             rawMask = np.logical_xor(combiLeft, rawMask)  # merge the newly computed mask with the previously computed masks. We use XOR so that the TRUE values of the new mask are added to the complete mask. Same step left and right just add to the existing full mask wether the new mask is on the left or the right.\n",
    "    #     # same as above for the right part\n",
    "    #     if pos[pos > middle].size:\n",
    "    #         low = pos[pos > middle][0]\n",
    "    #         high = pos[pos > middle][-1]\n",
    "    #         a = np.ma.masked_less(position, high)\n",
    "    #         b = np.ma.masked_greater(position, low)\n",
    "    #         c = np.ma.masked_less(speed, line + 0.5)\n",
    "    #         d = np.ma.masked_greater(speed, line - 0.5)\n",
    "    #         mask = np.logical_and(a.mask, b.mask)\n",
    "    #         mask2 = np.logical_and(c.mask, d.mask)\n",
    "    #         combiRight = np.logical_and(mask, mask2)\n",
    "    #         if not rawMask.size:\n",
    "    #             rawMask = combiRight\n",
    "    #         else:\n",
    "    #             rawMask = np.logical_xor(combiRight, rawMask)\n",
    "    # return ~rawMask\n",
    "bound = np.min([p.kde(p.leftBoundaryPeak), p.kde(p.rightBoundaryPeak)])*90000/2\n",
    "mask2 = filterspeed2(p.rawPositionX, p.rawSpeed, bound, p.params[\"treadmillDist\"])"
   ]
  },
  {
   "cell_type": "code",
   "execution_count": 16,
   "metadata": {},
   "outputs": [
    {
     "data": {
      "image/png": "[encoded data removed]",
      "text/plain": [
       "<Figure size 2160x720 with 3 Axes>"
      ]
     },
     "metadata": {
      "needs_background": "light"
     },
     "output_type": "display_data"
    }
   ],
   "source": [
    "fig, axs = plt.subplots(3, 1, figsize=(30, 10))\n",
    "for i in range(0, 1000):\n",
    "    axs[0].scatter(i, mask1[i], c=mask1[i])\n",
    "    axs[1].scatter(i, mask2[i], c=mask2[i])\n",
    "    axs[2].scatter(i, mask1[i] == mask2[i], c=mask1[i] == mask2[i])\n",
    "    # plt.scatter(p.rawPositionX[i], p.rawSpeed[i], c=mask1[i])\n",
    "# (mask1 == mask2)"
   ]
  },
  {
   "cell_type": "code",
   "execution_count": 17,
   "metadata": {},
   "outputs": [
    {
     "data": {
      "text/plain": [
       "<matplotlib.image.AxesImage at 0x7f77ae4d0350>"
      ]
     },
     "execution_count": 17,
     "metadata": {},
     "output_type": "execute_result"
    },
    {
     "data": {
      "image/png": "[encoded data removed]",
      "text/plain": [
       "<Figure size 432x288 with 1 Axes>"
      ]
     },
     "metadata": {
      "needs_background": "light"
     },
     "output_type": "display_data"
    }
   ],
   "source": [
    "import numpy as np\n",
    "import numpy.random\n",
    "import matplotlib.pyplot as plt\n",
    "\n",
    "# Generate some test data\n",
    "x = np.random.randn(90000)\n",
    "y = np.random.randn(90000)\n",
    "\n",
    "heatmap, xedges, yedges = np.histogram2d(x, y, bins=50)\n",
    "extent = [xedges[0], xedges[-1], yedges[0], yedges[-1]]\n",
    "\n",
    "plt.imshow(heatmap.T, extent=extent, origin='lower')"
   ]
  },
  {
   "cell_type": "code",
   "execution_count": 18,
   "metadata": {},
   "outputs": [
    {
     "data": {
      "text/plain": [
       "0.0032"
      ]
     },
     "execution_count": 18,
     "metadata": {},
     "output_type": "execute_result"
    }
   ],
   "source": [
    "p.total_trials/90000"
   ]
  },
  {
   "cell_type": "code",
   "execution_count": 19,
   "metadata": {},
   "outputs": [
    {
     "name": "stdout",
     "output_type": "stream",
     "text": [
      "14 55\n",
      "[0.01267806] [0.1475711]\n",
      "[1141.02558134] [13281.39867249]\n",
      "570.5127906682816\n"
     ]
    },
    {
     "data": {
      "text/plain": [
       "[<matplotlib.lines.Line2D at 0x7f77ae5a6a90>]"
      ]
     },
     "execution_count": 19,
     "metadata": {},
     "output_type": "execute_result"
    },
    {
     "data": {
      "image/png": "[encoded data removed]",
      "text/plain": [
       "<Figure size 432x288 with 1 Axes>"
      ]
     },
     "metadata": {
      "needs_background": "light"
     },
     "output_type": "display_data"
    }
   ],
   "source": [
    "xx = np.linspace(0, 120, 120)\n",
    "plt.plot(p.kde(xx), xx, color='r')\n",
    "\n",
    "xline1 = [p.leftBoundaryPeak, p.leftBoundaryPeak]\n",
    "xline2 = [p.rightBoundaryPeak, p.rightBoundaryPeak]\n",
    "yline = [0, 0.01]\n",
    "\n",
    "print(p.leftBoundaryPeak, p.rightBoundaryPeak,)\n",
    "print(p.kde(p.leftBoundaryPeak), p.kde(p.rightBoundaryPeak))\n",
    "print(p.kde(p.leftBoundaryPeak)*90000, p.kde(p.rightBoundaryPeak)*90000)\n",
    "\n",
    "bound = np.min([p.kde(p.leftBoundaryPeak), p.kde(p.rightBoundaryPeak)])*90000/2\n",
    "print(bound)\n",
    "plt.axvline(p.total_trials/90000, color='k')\n",
    "plt.plot(yline, xline1, \":\", color='k')\n",
    "plt.plot(yline, xline2, \":\", color='k')"
   ]
  },
  {
   "cell_type": "code",
   "execution_count": 20,
   "metadata": {},
   "outputs": [
    {
     "data": {
      "text/plain": [
       "<matplotlib.image.AxesImage at 0x7f77ae76b690>"
      ]
     },
     "execution_count": 20,
     "metadata": {},
     "output_type": "execute_result"
    },
    {
     "data": {
      "image/png": "[encoded data removed]",
      "text/plain": [
       "<Figure size 360x360 with 1 Axes>"
      ]
     },
     "metadata": {
      "needs_background": "light"
     },
     "output_type": "display_data"
    }
   ],
   "source": [
    "import numpy as np\n",
    "import numpy.random\n",
    "import matplotlib.pyplot as plt\n",
    "\n",
    "# Generate some test data\n",
    "x = p.rawPositionX\n",
    "y = p.rawSpeed\n",
    "xbins = np.linspace(0, 120, 121)\n",
    "ybins = np.linspace(-60, 60, 121)\n",
    "heatmap, _, __ = np.histogram2d(x, y, bins=(xbins, ybins))\n",
    "\n",
    "fig, ax = plt.figure(figsize=(5, 5)), plt.gca()\n",
    "hm = heatmap.T\n",
    "B = p.total_trials * 4\n",
    "hm[hm < B] = False\n",
    "hm[hm >= B] = True\n",
    "plt.imshow(hm, extent=[0, 120, -60, 60])#, origin='lower', cmap='jet', aspect='auto', vmax=10000)"
   ]
  },
  {
   "cell_type": "code",
   "execution_count": null,
   "metadata": {},
   "outputs": [],
   "source": []
  }
 ],
 "metadata": {
  "kernelspec": {
   "display_name": "Python 3.7.11 ('base')",
   "language": "python",
   "name": "python3"
  },
  "language_info": {
   "codemirror_mode": {
    "name": "ipython",
    "version": 3
   },
   "file_extension": ".py",
   "mimetype": "text/x-python",
   "name": "python",
   "nbconvert_exporter": "python",
   "pygments_lexer": "ipython3",
   "version": "3.7.11"
  },
  "orig_nbformat": 4,
  "vscode": {
   "interpreter": {
    "hash": "a05f93782d31fb45d30263a0389582a01d7e14abf3ec6aacde92652303ee35ce"
   }
  }
 },
 "nbformat": 4,
 "nbformat_minor": 2
}
