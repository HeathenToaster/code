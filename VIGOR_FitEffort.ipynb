{
 "cells": [
  {
   "cell_type": "markdown",
   "metadata": {},
   "source": [
    "# set-up"
   ]
  },
  {
   "cell_type": "markdown",
   "metadata": {},
   "source": [
    "## Imports"
   ]
  },
  {
   "cell_type": "code",
   "execution_count": 1,
   "metadata": {
    "ExecuteTime": {
     "end_time": "2020-07-23T13:43:35.962963Z",
     "start_time": "2020-07-23T13:43:33.614263Z"
    },
    "code_folding": []
   },
   "outputs": [],
   "source": [
    "import datetime\n",
    "import fnmatch\n",
    "import matplotlib.cbook\n",
    "import matplotlib.pyplot as plt\n",
    "%matplotlib inline\n",
    "from ipywidgets import interact\n",
    "import numpy as np\n",
    "import os\n",
    "import glob\n",
    "import pandas as pd\n",
    "import pickle\n",
    "import platform\n",
    "from pylab import rcParams\n",
    "import scipy\n",
    "from scipy import stats\n",
    "import warnings\n",
    "\n",
    "warnings.filterwarnings(\"ignore\",category=matplotlib.cbook.mplDeprecation)\n",
    "startTimeNotebook = datetime.datetime.now()\n",
    "if 'COLAB_GPU' in os.environ:\n",
    "    !git clone https://github.com/HeathenToaster/code\n",
    "    %cd code\n",
    "\n",
    "# session lists in a .py file\n",
    "# import sessionlists\n",
    "%run sessionlists\n",
    "from VIGOR_utils import *\n",
    "from VIGOR_MODELS_Functions import *\n",
    "\n",
    "plt.style.use('./Figures/test.mplstyle')"
   ]
  },
  {
   "cell_type": "markdown",
   "metadata": {},
   "source": [
    "## Define data path."
   ]
  },
  {
   "cell_type": "code",
   "execution_count": 2,
   "metadata": {
    "ExecuteTime": {
     "end_time": "2020-07-23T13:43:36.014402Z",
     "start_time": "2020-07-23T13:43:35.968581Z"
    },
    "code_folding": [],
    "tags": []
   },
   "outputs": [
    {
     "name": "stdout",
     "output_type": "stream",
     "text": [
      "Path to data is: /home/david/Desktop/ALLDATA\n",
      "Current working directory: /home/david/Desktop/code\n",
      "Save Path:  /home/david/Desktop/Save\n",
      "Found 26 rats in the data folder\n"
     ]
    }
   ],
   "source": [
    "#### Define folder with data \n",
    "if platform.system()=='Linux':\n",
    "    root=\"/home/david/Desktop/ALLDATA\"\n",
    "    savePath=\"/home/david/Desktop/Save\"\n",
    "elif platform.system()=='Darwin':\n",
    "    root=\"/Users/tom/Desktop/sequencesALLDATA\"\n",
    "    savePath=\"/Users/tom/Desktop/Save\"\n",
    "if 'COLAB_GPU' in os.environ:\n",
    "    !gdown --id 1BSepSzm1-KQJlUvv8C23p_qyHvtzvrZ8\n",
    "    !unzip -qq /content/code/sequencesALLDATA.zip\n",
    "    root=\"/content/code/sequencesALLDATA\"\n",
    "    savePath=\"/content/Save\"\n",
    "    print(\"I'm running on Colab\")\n",
    "print(\"Path to data is: %s\"%root)\n",
    "\n",
    "retval = os.getcwd()\n",
    "print(\"Current working directory: %s\" % retval)\n",
    "print(\"Save Path: \", savePath)\n",
    "\n",
    "print(f'Found {len(glob.glob(root+\"/*\"))} rats in the data folder')"
   ]
  },
  {
   "cell_type": "markdown",
   "metadata": {},
   "source": [
    "# fit effort "
   ]
  },
  {
   "cell_type": "code",
   "execution_count": 3,
   "metadata": {},
   "outputs": [
    {
     "name": "stdout",
     "output_type": "stream",
     "text": [
      "Loading data for RatF00\n",
      "Loading data for RatF01\n",
      "Loading data for RatF02\n",
      "Loading data for RatM00\n",
      "Loading data for RatM01\n",
      "Loading data for RatM02\n",
      "Loading data for RatF30\n",
      "Loading data for RatF31\n",
      "Loading data for RatF32\n",
      "Loading data for RatF33\n",
      "Loading data for RatM30\n",
      "Loading data for RatM31\n",
      "Loading data for RatM32\n",
      "Loading data for RatF40\n",
      "Loading data for RatF41\n",
      "Loading data for RatF42\n",
      "Loading data for RatM40\n",
      "Loading data for RatM41\n",
      "Loading data for RatM42\n",
      "Loading data for RatM43\n"
     ]
    }
   ],
   "source": [
    "XtrackRunToLeftBin, XtrackRunToRightBin = {}, {}\n",
    "rat_markers = {}\n",
    "\n",
    "example_rat = 'RatF02'\n",
    "\n",
    "animalList = ['RatF00', 'RatF01', 'RatF02', 'RatM00', 'RatM01', 'RatM02', \n",
    "              'RatF30', 'RatF31', 'RatF32', 'RatF33', 'RatM30', 'RatM31', 'RatM32', \n",
    "              'RatF40', 'RatF41', 'RatF42', 'RatM40', 'RatM41', 'RatM42', 'RatM43']\n",
    "\n",
    "intact = ['RatF00', 'RatF01', 'RatF02', 'RatM00', 'RatM01', 'RatM02', \n",
    "            'RatF32', 'RatF33', 'RatM31', 'RatM32', 'RatF42', 'RatM40', 'RatM43']\n",
    "\n",
    "            \n",
    "brainstatus = {'RatF00': 'normal', 'RatF01': 'normal', 'RatF02': 'normal',\n",
    "               'RatM00': 'normal', 'RatM01': 'normal', 'RatM02': 'normal',\n",
    "\n",
    "               'RatF30': 'DLS', 'RatF31': 'DLS', 'RatF32': 'normal', 'RatF33': 'normal',\n",
    "               'RatM30': 'DLS', 'RatM31': 'normal', 'RatM32': 'normal',\n",
    "               'RatF40': 'DLS', 'RatF41': 'DMS', 'RatF42': 'normal',\n",
    "               'RatM40': 'normal', 'RatM41': 'DLS', 'RatM42': 'DMS', 'RatM43': 'normal'}\n",
    "\n",
    "\n",
    "markers = {'normal': 'o', 'DLS': 'X', 'DMS': 'x'}\n",
    "lines = {'normal': '-', 'DLS': '-', 'DMS': '-'}\n",
    "\n",
    "for index, animal in enumerate(animalList):\n",
    "    print(f'Loading data for {animal}')\n",
    "    for session in sorted(matchsession(animal, dist60+dist90+dist120 + TM20+TM10+TM2+TMrev2+TMrev10+TMrev20)):\n",
    "        XtrackRunToLeftBin[animal, session], XtrackRunToRightBin[animal, session] = get_from_pickle(root, animal[0:6], session, name=\"trackPos.p\", biglesion=False)\n",
    "\n",
    "    if fnmatch.fnmatch(animal, 'RatF*'):\n",
    "        rat_markers[animal]=['silver', markers[brainstatus[animal]], lines[brainstatus[animal]]]\n",
    "    elif fnmatch.fnmatch(animal, 'RatM*'):\n",
    "        rat_markers[animal]=['silver', markers[brainstatus[animal]], lines[brainstatus[animal]]]\n",
    "    elif fnmatch.fnmatch(animal, 'Rat00*'):\n",
    "        rat_markers[animal]=[(0.0, 0.0, 0.0), \"$\\u2426$\",]\n",
    "    else:\n",
    "        print(\"error, this is not a rat you got here\")\n",
    "\n",
    "    if animal == 'RatF02':\n",
    "        rat_markers[animal][0] = 'dodgerblue'"
   ]
  },
  {
   "cell_type": "code",
   "execution_count": 4,
   "metadata": {},
   "outputs": [
    {
     "name": "stdout",
     "output_type": "stream",
     "text": [
      "median real distance for 60cm:  0.31099362376890505\n",
      "median real distance for 90cm:  0.6327253497258353\n",
      "median real distance for 120cm:  0.9609641564395324\n"
     ]
    }
   ],
   "source": [
    "realdist60 = {}\n",
    "realdist90 = {}\n",
    "realdist120= {}\n",
    "\n",
    "\n",
    "# compute the running distance for each run (pos start - pos end) for each distance configuration\n",
    "for animal in animalList:\n",
    "    realdist60[animal], realdist90[animal], realdist120[animal] = ([] for _ in range(3))\n",
    "    for session in sorted(matchsession(animal, dist60)):\n",
    "        for i in range(0, 12):\n",
    "            realdist60[animal] = np.append(realdist60[animal], [abs(r[0] - r[-1]) for r in XtrackRunToRightBin[animal, session][i]])\n",
    "            realdist60[animal] = np.append(realdist60[animal], [abs(l[0] - l[-1]) for l in XtrackRunToLeftBin[animal, session][i]])\n",
    "    for session in sorted(matchsession(animal, dist90)):   \n",
    "        for i in range(0, 12):\n",
    "            realdist90[animal] = np.append(realdist90[animal], [abs(r[0] - r[-1]) for r in XtrackRunToRightBin[animal, session][i]])\n",
    "            realdist90[animal] = np.append(realdist90[animal], [abs(l[0] - l[-1]) for l in XtrackRunToLeftBin[animal, session][i]])\n",
    "    for session in sorted(matchsession(animal, dist120)):\n",
    "        for i in range(0, 12):\n",
    "            realdist120[animal] = np.append(realdist120[animal], [abs(r[0] - r[-1]) for r in XtrackRunToRightBin[animal, session][i]])\n",
    "            realdist120[animal] = np.append(realdist120[animal], [abs(l[0] - l[-1]) for l in XtrackRunToLeftBin[animal, session][i]])\n",
    "\n",
    "# compute the mean running distance for each animal for each distance configuration\n",
    "medianrealdist60 = {}\n",
    "medianrealdist90 = {}\n",
    "medianrealdist120 = {}\n",
    "\n",
    "for animal in animalList:\n",
    "    medianrealdist60[animal] = np.median(realdist60[animal]) / 100\n",
    "    medianrealdist90[animal] = np.median(realdist90[animal]) / 100\n",
    "    medianrealdist120[animal] = np.median(realdist120[animal]) / 100\n",
    "\n",
    "print('median real distance for 60cm: ', medianrealdist60[example_rat])\n",
    "print('median real distance for 90cm: ', medianrealdist90[example_rat])\n",
    "print('median real distance for 120cm: ', medianrealdist120[example_rat])"
   ]
  },
  {
   "cell_type": "code",
   "execution_count": 5,
   "metadata": {},
   "outputs": [],
   "source": [
    "def T_opt(D, vbelt, epsilon):\n",
    "    det = np.sqrt(epsilon**2 * vbelt**4 + 12*epsilon*D**2)\n",
    "    Tsq = ((det - (epsilon * vbelt**2)) / 6)\n",
    "    return np.sqrt(Tsq)"
   ]
  },
  {
   "cell_type": "code",
   "execution_count": 6,
   "metadata": {},
   "outputs": [],
   "source": [
    "alpha, alpha_t, alpha_R, gamma, gamma_t, gamma_R, mu_0, mu_t, mu_R, sigma, sigma_t, sigma_R = pickle.load(open(\"picklejar/intact_lesionFITS.p\", \"rb\"))"
   ]
  },
  {
   "cell_type": "code",
   "execution_count": 7,
   "metadata": {},
   "outputs": [
    {
     "data": {
      "text/plain": [
       "(array([10.26810017,  3.40205765,  0.32727476]), 1.3876304774765926)"
      ]
     },
     "execution_count": 7,
     "metadata": {},
     "output_type": "execute_result"
    }
   ],
   "source": [
    "def effort_loss(params, *args):\n",
    "\n",
    "    epsilon_0, epsilon_t, epsilon_R = params\n",
    "    fit_params, realdist, N_bins, N_avg = args\n",
    "    mu_0, mu_t, mu_R = fit_params\n",
    "    S, M, L = realdist\n",
    "\n",
    "    conds = [\"60\", \"90\", \"120\", \"20\", \"10\", \"2\", \"rev10\", \"rev20\"]\n",
    "    params_distance = {\"60\": S, \"90\": M, \"120\": L, \"20\": L, \"10\": L, \"2\": L, \"rev10\": L, \"rev20\": L}\n",
    "    params_vbelt = {\"60\": 0, \"90\": 0, \"120\": 0, \"20\": .2, \"10\": .1, \"2\": .02, \"rev10\": -.1, \"rev20\": -.2}\n",
    "\n",
    "    loss = 0\n",
    "    MU = {key: np.zeros((N_bins, N_avg)) for key in conds}\n",
    "    EPSILON = np.zeros((N_bins, N_avg))\n",
    "\n",
    "    for cond in conds:\n",
    "        for bin in range(N_bins):\n",
    "            for avg in range(N_avg):\n",
    "                MU[cond][bin, avg] = mu_0[cond] + bin*mu_t[cond] + avg*mu_R[cond]\n",
    "                EPSILON[bin, avg] = epsilon_0 + bin*epsilon_t + avg*epsilon_R\n",
    "\n",
    "    for bin in range(N_bins):\n",
    "        for avg in range(N_avg):\n",
    "            # if bin == 0 and avg == 0:\n",
    "                experimental_data = [MU[cond][bin, avg] for cond in conds]\n",
    "                theoretical_data = [T_opt(params_distance[cond], params_vbelt[cond], epsilon=EPSILON[bin, avg]) for cond in conds]\n",
    "                loss += np.sum((np.array(experimental_data) - np.array(theoretical_data))**2)\n",
    "\n",
    "    return loss\n",
    "\n",
    "def effort_fit(mu_0, mu_t, mu_R, \n",
    "                realdist60, realdist90, realdist120, \n",
    "                init=[12, 5, 0], \n",
    "                f=effort_loss, N_bins=6, N_avg=4):\n",
    "    \n",
    "    params_init = np.array(init)\n",
    "\n",
    "    res = minimize(f, params_init, \n",
    "                    args=((mu_0, mu_t, mu_R), (realdist60, realdist90, realdist120, ), N_bins, N_avg),\n",
    "                    method='nelder-mead', options={'xatol': 1e-9})\n",
    "    return res.x, res.fun\n",
    "\n",
    "animal = 'RatF01'\n",
    "effort_fit(mu_0[animal], mu_t[animal], mu_R[animal], medianrealdist60[animal], medianrealdist90[animal], medianrealdist120[animal])"
   ]
  },
  {
   "cell_type": "code",
   "execution_count": 8,
   "metadata": {},
   "outputs": [],
   "source": [
    "epsilon_0 = {}\n",
    "epsilon_t = {}\n",
    "epsilon_R = {}\n",
    "loss_effort_fit = {}\n",
    "\n",
    "for animal in animalList:\n",
    "    (epsilon_0[animal], epsilon_t[animal], epsilon_R[animal]), loss_effort_fit[animal] = effort_fit(mu_0[animal], mu_t[animal], mu_R[animal], medianrealdist60[animal], medianrealdist90[animal], medianrealdist120[animal])\n"
   ]
  },
  {
   "cell_type": "code",
   "execution_count": 38,
   "metadata": {},
   "outputs": [],
   "source": [
    "pickle.dump((epsilon_0, epsilon_t, epsilon_R), open('picklejar/effort_fit.p', 'wb'))"
   ]
  },
  {
   "cell_type": "code",
   "execution_count": 9,
   "metadata": {},
   "outputs": [
    {
     "name": "stdout",
     "output_type": "stream",
     "text": [
      "10.666624655814768 6.208084908836739 0.2056948312355601\n",
      "10.268100169720539 3.402057650802255 0.32727475827556396\n",
      "13.88632677062273 7.637494221050936 -2.6550888361269616\n",
      "15.881763883665764 2.9646615882412455 0.05567015402688983\n",
      "11.483917145135276 3.3087693128458877 2.0424137298114458\n",
      "16.406724585301887 3.273195509897169 -1.6753754792061317\n",
      "18.90156150166412 2.49472212088463 0.2809201673484527\n",
      "10.921724212105214 3.553272896594338 -0.06711416203736406\n",
      "8.372752109769877 3.927619115747495 3.2154251920939734\n",
      "9.946034321564191 3.4329222424253407 0.30107460535382824\n",
      "20.890112584294805 8.132972647765875 6.52306671049842\n",
      "16.643203741008115 2.4423698276917154 -1.8111987466004986\n",
      "16.639971564079225 3.56641641582756 1.4569249123843118\n",
      "23.4182794637711 5.207461360372324 -2.7540426266193623\n",
      "38.21833901032382 10.816677252146494 9.31962716935194\n",
      "7.653671233613744 2.145623596288349 0.39587679627175865\n",
      "11.489392448663391 2.3556540181950734 -0.8068134807275942\n",
      "11.892216940612563 2.1824050613132 -0.5787130478784515\n",
      "18.21987608357507 3.864233313993058 -1.3300436751366727\n",
      "13.975288942321605 1.5843184877059922 -1.356188363489046\n"
     ]
    },
    {
     "data": {
      "text/plain": [
       "Text(0.5, 0, 'effort sensibility parameter')"
      ]
     },
     "execution_count": 9,
     "metadata": {},
     "output_type": "execute_result"
    },
    {
     "data": {
      "image/png": "[encoded data removed]",
      "text/plain": [
       "<Figure size 360x360 with 1 Axes>"
      ]
     },
     "metadata": {
      "needs_background": "light"
     },
     "output_type": "display_data"
    }
   ],
   "source": [
    "\n",
    "\n",
    "fig, axs = plt.subplots(1, 1, figsize=(5, 5))\n",
    "ylabels = [r'$\\epsilon_0$', r\"$\\epsilon_t$\", r\"$\\epsilon_R$\"]\n",
    "ylims = [[-.2, 2.5], [-.05, .2], [-.15, .15],]\n",
    "\n",
    "\n",
    "epsilon_0_intact = []\n",
    "epsilon_t_intact = []\n",
    "epsilon_R_intact = []\n",
    "\n",
    "epsilon_0_lesion = []\n",
    "epsilon_t_lesion = []\n",
    "epsilon_R_lesion = []\n",
    "\n",
    "for animal in animalList:\n",
    "    if animal in intact:\n",
    "        x = np.arange(3)\n",
    "        epsilon_0_intact.append(epsilon_0[animal])\n",
    "        epsilon_t_intact.append(epsilon_t[animal])\n",
    "        epsilon_R_intact.append(epsilon_R[animal])\n",
    "\n",
    "    else:\n",
    "        x = np.arange(3) + .2\n",
    "        epsilon_0_lesion.append(epsilon_0[animal])\n",
    "        epsilon_t_lesion.append(epsilon_t[animal])\n",
    "        epsilon_R_lesion.append(epsilon_R[animal])\n",
    "\n",
    "    print(epsilon_0[animal], epsilon_t[animal], epsilon_R[animal])\n",
    "    axs.scatter(x,  [epsilon_0[animal], epsilon_t[animal], epsilon_R[animal]], color=rat_markers[animal][0], label=animal, marker=rat_markers[animal][1])\n",
    "    axs.set_title(f\"\")\n",
    "    axs.set_xticks(np.arange(3))\n",
    "    axs.set_xticklabels(ylabels)\n",
    "    axs.set_xlim(-.5, 2.5)\n",
    "    # axs.set_ylim(ylim)\n",
    "    axs.axhline(0, color='black', linestyle='--', linewidth=1)\n",
    "\n",
    "axs.set_xlabel(\"effort sensibility parameter\")\n",
    "\n"
   ]
  },
  {
   "cell_type": "code",
   "execution_count": 36,
   "metadata": {},
   "outputs": [
    {
     "name": "stdout",
     "output_type": "stream",
     "text": [
      "p = 0.0043\n",
      "p = 0.1514\n",
      "p = 0.2537\n",
      "significance level = 0.016666666666666666\n"
     ]
    }
   ],
   "source": [
    "perm = exact_mc_perm_test(epsilon_0_intact, epsilon_0_lesion, 10000)\n",
    "print(f'p = {perm}')\n",
    "\n",
    "perm = exact_mc_perm_test(epsilon_t_intact, epsilon_t_lesion, 10000)\n",
    "print(f'p = {perm}')\n",
    "\n",
    "perm = exact_mc_perm_test(epsilon_R_intact, epsilon_R_lesion, 10000)\n",
    "print(f'p = {perm}')\n",
    "\n",
    "print(f'significance level = {0.05/3}')\n"
   ]
  },
  {
   "cell_type": "markdown",
   "metadata": {},
   "source": [
    "# test with only mu_0"
   ]
  },
  {
   "cell_type": "code",
   "execution_count": 20,
   "metadata": {},
   "outputs": [
    {
     "data": {
      "text/plain": [
       "0.033283447907709776"
      ]
     },
     "execution_count": 20,
     "metadata": {},
     "output_type": "execute_result"
    }
   ],
   "source": [
    "def T_opt_n(D, vbelt, alpha, power_effort, power_time):\n",
    "    T = np.linspace(0, 2.5, 750)\n",
    "    vmax = (D - vbelt * T) / (T)\n",
    "    cost = alpha * T * vmax ** power_effort + T**power_time\n",
    "    Topt = T[np.nanargmin(cost)]\n",
    "    return Topt\n",
    "    \n",
    "def fit_effort(epsilon, args):\n",
    "    fit_param, realdist = args\n",
    "    S, M, L = realdist\n",
    "\n",
    "    loss_60 = (T_opt(S, 0, epsilon=epsilon) - fit_param[\"60\"])**2\n",
    "    loss_90 = (T_opt(M, 0, epsilon=epsilon) - fit_param[\"90\"])**2\n",
    "    loss_120 = (T_opt(L, 0, epsilon=epsilon) - fit_param[\"120\"])**2\n",
    "\n",
    "    loss_20 = (T_opt(L, .2, epsilon=epsilon) - fit_param[\"20\"])**2\n",
    "    loss_10 = (T_opt(L, .1, epsilon=epsilon) - fit_param[\"10\"])**2\n",
    "    loss_2 = (T_opt(L, .02, epsilon=epsilon) - fit_param[\"2\"])**2\n",
    "    loss_rev10 = (T_opt(L, -.1, epsilon=epsilon) - fit_param[\"rev10\"])**2\n",
    "    loss_rev20 = (T_opt(L, -.2, epsilon=epsilon) - fit_param[\"rev20\"])**2\n",
    "\n",
    "    loss = loss_60 + loss_90 + loss_120 + loss_20 + loss_10 + loss_2 + loss_rev10 + loss_rev20\n",
    "    return loss\n",
    "\n",
    "def fit_func_power(params, args):\n",
    "    alpha, power_time, power_effort = params\n",
    "    fit_param, realdist = args\n",
    "    S, M, L = realdist\n",
    "\n",
    "    loss_60 = (T_opt_n(S, 0, alpha=alpha, power_effort=power_effort, power_time=power_time) - fit_param[\"60\"])**2\n",
    "    loss_90 = (T_opt_n(M, 0, alpha=alpha, power_effort=power_effort, power_time=power_time) - fit_param[\"90\"])**2\n",
    "    loss_120 = (T_opt_n(L, 0, alpha=alpha, power_effort=power_effort, power_time=power_time) - fit_param[\"120\"])**2\n",
    "\n",
    "    loss_20 = (T_opt_n(L, .2, alpha=alpha, power_effort=power_effort, power_time=power_time) - fit_param[\"20\"])**2\n",
    "    loss_10 = (T_opt_n(L, .1, alpha=alpha, power_effort=power_effort, power_time=power_time) - fit_param[\"10\"])**2\n",
    "    loss_2 = (T_opt_n(L, .02, alpha=alpha, power_effort=power_effort, power_time=power_time) - fit_param[\"2\"])**2\n",
    "    loss_rev10 = (T_opt_n(L, -.1, alpha=alpha, power_effort=power_effort, power_time=power_time) - fit_param[\"rev10\"])**2\n",
    "    loss_rev20 = (T_opt_n(L, -.2, alpha=alpha, power_effort=power_effort, power_time=power_time) - fit_param[\"rev20\"])**2\n",
    "\n",
    "    loss = loss_60 + loss_90 + loss_120 + loss_20 + loss_10 + loss_2 + loss_rev10 + loss_rev20\n",
    "    return loss\n",
    "\n",
    "animal = 'RatF00'\n",
    "fit_effort((11), [mu_0[animal], (medianrealdist60[animal], medianrealdist90[animal], medianrealdist120[animal])])"
   ]
  },
  {
   "cell_type": "code",
   "execution_count": 21,
   "metadata": {},
   "outputs": [
    {
     "data": {
      "text/plain": [
       "(0.0, 0.8)"
      ]
     },
     "execution_count": 21,
     "metadata": {},
     "output_type": "execute_result"
    },
    {
     "data": {
      "image/png": "[encoded data removed]",
      "text/plain": [
       "<Figure size 432x288 with 1 Axes>"
      ]
     },
     "metadata": {
      "needs_background": "light"
     },
     "output_type": "display_data"
    }
   ],
   "source": [
    "\n",
    "for animal in animalList:\n",
    "    x = np.linspace(0, 50, 1000)\n",
    "    y = fit_effort((x), [mu_0[animal], (medianrealdist60[animal], medianrealdist90[animal], medianrealdist120[animal])])\n",
    "    if animal in intact:\n",
    "        plt.plot(x, y, 'c', linewidth=2)\n",
    "    else:\n",
    "        plt.plot(x, y, 'r', linewidth=2)\n",
    "\n",
    "plt.ylim(0, .8)"
   ]
  },
  {
   "cell_type": "code",
   "execution_count": 22,
   "metadata": {},
   "outputs": [
    {
     "name": "stdout",
     "output_type": "stream",
     "text": [
      "RatF00 [11.67901132] 0.03050125843899611\n",
      "RatF01 [10.85703115] 0.07576539646238671\n",
      "RatF02 [13.6071462] 0.037384999371945775\n",
      "RatM00 [16.24708945] 0.1829434734508445\n",
      "RatM01 [12.50717686] 0.07994935354127795\n",
      "RatM02 [16.26325822] 0.08434426883695174\n",
      "RatF30 [19.21323709] 0.44384380324305744\n",
      "RatF31 [11.39505955] 0.11448822659712338\n",
      "RatF32 [9.90930687] 0.08656428249998287\n",
      "RatF33 [10.54086307] 0.07256935150074979\n",
      "RatM30 [23.98851997] 0.18148052264820802\n",
      "RatM31 [16.41698695] 0.022553064382477263\n",
      "RatM32 [17.46871719] 0.05680900545546992\n",
      "RatF40 [23.13273468] 0.19451357943645603\n",
      "RatF41 [42.1299265] 0.18361888823512187\n",
      "RatF42 [8.06640616] 0.03744712936109178\n",
      "RatM40 [11.52110391] 0.03751822902891403\n",
      "RatM41 [11.97772374] 0.07326717673104177\n",
      "RatM42 [18.28402375] 0.20539098109342704\n",
      "RatM43 [13.81738794] 0.04338600941882781\n"
     ]
    }
   ],
   "source": [
    "from scipy.optimize import minimize\n",
    "\n",
    "k_intact = []\n",
    "k_lesion = []\n",
    "\n",
    "for animal in animalList:\n",
    "    res = minimize(fit_effort, x0=12,\n",
    "                    args=[mu_0[animal], (medianrealdist60[animal], medianrealdist90[animal], medianrealdist120[animal])],\n",
    "                    method='nelder-mead', options={'xatol': 1e-9})\n",
    "    if animal in intact:\n",
    "        k_intact.append(res.x[0])\n",
    "    else:\n",
    "        k_lesion.append(res.x[0])\n",
    "    print(animal, res.x, res.fun)"
   ]
  },
  {
   "cell_type": "code",
   "execution_count": 23,
   "metadata": {},
   "outputs": [
    {
     "data": {
      "text/plain": [
       "Text(0, 0.5, 'effort sensitivity parameter')"
      ]
     },
     "execution_count": 23,
     "metadata": {},
     "output_type": "execute_result"
    },
    {
     "data": {
      "image/png": "[encoded data removed]",
      "text/plain": [
       "<Figure size 360x360 with 1 Axes>"
      ]
     },
     "metadata": {
      "needs_background": "light"
     },
     "output_type": "display_data"
    }
   ],
   "source": [
    "fig, ax = plt.subplots(figsize=(5, 5))\n",
    "\n",
    "ax.plot([1 for _ in range(len(k_intact))], k_intact, 'o', color='blue', label='Intact')\n",
    "ax.plot([2 for _ in range(len(k_lesion))], k_lesion, 'o', color='red', label='Lesion')\n",
    "ax.set_xticks([1, 2])\n",
    "ax.set_xticklabels(['Intact', 'Lesion'])\n",
    "ax.set_ylabel('effort sensitivity parameter')"
   ]
  },
  {
   "cell_type": "code",
   "execution_count": 24,
   "metadata": {},
   "outputs": [
    {
     "name": "stdout",
     "output_type": "stream",
     "text": [
      "p-value = 0.0032\n"
     ]
    }
   ],
   "source": [
    "perm = exact_mc_perm_test(k_intact, k_lesion)\n",
    "print('p-value = {}'.format(perm))"
   ]
  },
  {
   "cell_type": "code",
   "execution_count": 25,
   "metadata": {},
   "outputs": [
    {
     "name": "stderr",
     "output_type": "stream",
     "text": [
      "/home/david/.local/lib/python3.7/site-packages/ipykernel_launcher.py:3: RuntimeWarning: divide by zero encountered in true_divide\n",
      "  This is separate from the ipykernel package so we can avoid doing imports until\n",
      "/home/david/.local/lib/python3.7/site-packages/ipykernel_launcher.py:4: RuntimeWarning: invalid value encountered in multiply\n",
      "  after removing the cwd from sys.path.\n"
     ]
    },
    {
     "name": "stdout",
     "output_type": "stream",
     "text": [
      "RatF00 [16.57620459  3.98091783  2.37988603] 0.014817834116605755\n",
      "RatF01 [45.90205229  6.66138607  2.63948036] 0.0239143890446227\n",
      "RatF02 [12.41700324  3.14464594  2.40185838] 0.022056217941151812\n",
      "RatM00 [10.44995082  2.69769048  3.59405752] 0.05473779143777764\n",
      "RatM01 [11.15513363  3.19677594  2.71794651] 0.040813300191514204\n",
      "RatM02 [36.17977393  4.7707284   3.10440242] 0.02085269682950606\n",
      "RatF30 [11.05654025  2.45992551  3.48225648] 0.293919447455498\n",
      "RatF31 [38.66218856  6.38870602  3.98225865] 0.042376198977338686\n",
      "RatF32 [9.57650992 3.62998808 3.4653845 ] 0.02804065908093885\n",
      "RatF33 [21.24868937  5.27798788  4.19063196] 0.026459331080313078\n",
      "RatM30 [13.39489     2.45806641  2.80028491] 0.09897558268163906\n",
      "RatM31 [14.66873826  2.9474198   2.16061256] 0.018486117295738347\n",
      "RatM32 [24.55035791  3.74968296  2.29717701] 0.04169152276348373\n",
      "RatF40 [11.29302909  2.30008361  3.09807764] 0.036994096944588495\n",
      "RatF41 [16.12529765  2.08878794  2.36827256] 0.08288774077934663\n",
      "RatF42 [10.13418693  4.22150109  2.71120585] 0.017832441089118453\n",
      "RatM40 [10.50858682  3.25967087  2.68914589] 0.01031358412828402\n",
      "RatM41 [7.37102632 2.68113394 3.00630476] 0.00519872474308105\n",
      "RatM42 [13.69840937  2.81950222  3.86755022] 0.030622367863100707\n",
      "RatM43 [11.06934958  3.01942851  2.76536829] 0.007641916072883414\n"
     ]
    }
   ],
   "source": [
    "from scipy.optimize import minimize\n",
    "\n",
    "k_intact = []\n",
    "k_lesion = []\n",
    "effort_intact = []\n",
    "effort_lesion = []\n",
    "time_intact = []\n",
    "time_lesion = []\n",
    "\n",
    "for animal in animalList:\n",
    "    res = minimize(fit_func_power, \n",
    "                    x0=[15, 3, 2], \n",
    "                    args=[mu_0[animal], (medianrealdist60[animal], medianrealdist90[animal], medianrealdist120[animal])],\n",
    "                    method='nelder-mead', options={'xatol': 1e-8})\n",
    "    if animal in intact:\n",
    "        k_intact.append(res.x[0])\n",
    "        time_intact.append(res.x[1])\n",
    "        effort_intact.append(res.x[2])\n",
    "\n",
    "    else:\n",
    "        k_lesion.append(res.x[0])\n",
    "        time_lesion.append(res.x[1])\n",
    "        effort_lesion.append(res.x[2])\n",
    "        \n",
    "    print(animal, res.x, res.fun)"
   ]
  },
  {
   "cell_type": "code",
   "execution_count": 26,
   "metadata": {},
   "outputs": [
    {
     "data": {
      "text/plain": [
       "Text(0, 0.5, 'effort power')"
      ]
     },
     "execution_count": 26,
     "metadata": {},
     "output_type": "execute_result"
    },
    {
     "data": {
      "image/png": "[encoded data removed]",
      "text/plain": [
       "<Figure size 1080x360 with 3 Axes>"
      ]
     },
     "metadata": {
      "needs_background": "light"
     },
     "output_type": "display_data"
    }
   ],
   "source": [
    "fig, axs = plt.subplots(1, 3, figsize=(15, 5))\n",
    "\n",
    "axs[0].plot([1 for _ in range(len(k_intact))], k_intact, 'o', color='blue', label='Intact')\n",
    "axs[0].plot([2 for _ in range(len(k_lesion))], k_lesion, 'o', color='red', label='Lesion')\n",
    "axs[0].set_xticks([1, 2])\n",
    "axs[0].set_xticklabels(['Intact', 'Lesion'])\n",
    "axs[0].set_ylabel('effort sensitivity parameter')\n",
    "\n",
    "axs[1].plot([1 for _ in range(len(time_intact))], time_intact, 'o', color='blue', label='Intact')\n",
    "axs[1].plot([2 for _ in range(len(time_lesion))], time_lesion, 'o', color='red', label='Lesion')\n",
    "axs[1].set_xticks([1, 2])\n",
    "axs[1].set_xticklabels(['Intact', 'Lesion'])\n",
    "axs[1].set_ylabel('time power')\n",
    "\n",
    "axs[2].plot([1 for _ in range(len(effort_intact))], effort_intact, 'o', color='blue', label='Intact')\n",
    "axs[2].plot([2 for _ in range(len(effort_lesion))], effort_lesion, 'o', color='red', label='Lesion')\n",
    "axs[2].set_xticks([1, 2])\n",
    "axs[2].set_xticklabels(['Intact', 'Lesion'])\n",
    "axs[2].set_ylabel('effort power')"
   ]
  },
  {
   "cell_type": "code",
   "execution_count": 27,
   "metadata": {},
   "outputs": [
    {
     "name": "stdout",
     "output_type": "stream",
     "text": [
      "p-value = 0.6775\n",
      "p-value = 0.159\n",
      "p-value = 0.18\n"
     ]
    }
   ],
   "source": [
    "perm = exact_mc_perm_test(k_intact, k_lesion)\n",
    "print('p-value = {}'.format(perm))\n",
    "\n",
    "perm = exact_mc_perm_test(time_intact, time_lesion)\n",
    "print('p-value = {}'.format(perm))\n",
    "\n",
    "perm = exact_mc_perm_test(effort_intact, effort_lesion)\n",
    "print('p-value = {}'.format(perm))"
   ]
  },
  {
   "cell_type": "code",
   "execution_count": null,
   "metadata": {},
   "outputs": [],
   "source": []
  }
 ],
 "metadata": {
  "kernelspec": {
   "display_name": "Python 3.7.11 64-bit ('base': conda)",
   "language": "python",
   "name": "python3"
  },
  "language_info": {
   "codemirror_mode": {
    "name": "ipython",
    "version": 3
   },
   "file_extension": ".py",
   "mimetype": "text/x-python",
   "name": "python",
   "nbconvert_exporter": "python",
   "pygments_lexer": "ipython3",
   "version": "3.7.11"
  },
  "vscode": {
   "interpreter": {
    "hash": "a05f93782d31fb45d30263a0389582a01d7e14abf3ec6aacde92652303ee35ce"
   }
  }
 },
 "nbformat": 4,
 "nbformat_minor": 2
}
